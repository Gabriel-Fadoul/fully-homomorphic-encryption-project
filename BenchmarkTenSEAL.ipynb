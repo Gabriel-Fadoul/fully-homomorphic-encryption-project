{
 "cells": [
  {
   "cell_type": "markdown",
   "id": "35eb4f58",
   "metadata": {},
   "source": [
    "# Benchmark TenSEAL"
   ]
  },
  {
   "cell_type": "code",
   "execution_count": null,
   "id": "7a1c9076",
   "metadata": {},
   "outputs": [],
   "source": [
    "from time import time \n",
    "import random as rand\n",
    "import numpy as np\n",
    "import tenseal as ts\n",
    "import matplotlib.pyplot as plt\n",
    "\n",
    "rand.seed(777)\n",
    "mean_soma_bfv = []\n",
    "mean_prod_bfv = []"
   ]
  },
  {
   "cell_type": "markdown",
   "id": "15d70499",
   "metadata": {},
   "source": [
    "Instanciação do ContextTenSEAL, objeto de configuração dos hiperparâmetros para a criptografia dos vetores\n",
    "\n",
    "*poly_modulus_degree*:\tDefine o espaço de operação (quanto maior, mais segurança e espaço para ruído)\n",
    "\n",
    "*plain_modulus*:\tControla o tamanho dos inteiros codificados"
   ]
  },
  {
   "cell_type": "code",
   "execution_count": 2,
   "id": "6fecb156",
   "metadata": {},
   "outputs": [],
   "source": [
    "context = ts.context(\n",
    "                ts.SCHEME_TYPE.BFV, \n",
    "                poly_modulus_degree=8192,\n",
    "                plain_modulus=1032193)"
   ]
  },
  {
   "cell_type": "markdown",
   "id": "e5eebe0b",
   "metadata": {},
   "source": [
    "## Caso de teste com Soma entre dois vetores criptografados"
   ]
  },
  {
   "cell_type": "code",
   "execution_count": 3,
   "id": "5abb2153",
   "metadata": {},
   "outputs": [
    {
     "name": "stdout",
     "output_type": "stream",
     "text": [
      "*BFV c2p 100 sum time*: 11.86 ms\n",
      "**Commom 100 sum time*: 0.00 ms\n",
      "Are Equal? True\n",
      "*BFV c2p 1000 sum time*: 11.04 ms\n",
      "**Commom 1000 sum time*: 0.00 ms\n",
      "Are Equal? True\n",
      "WARNING: The input does not fit in a single ciphertext, and some operations will be disabled.\n",
      "The following operations are disabled in this setup: matmul, matmul_plain, conv2d_im2col, replicate_first_slot.\n",
      "If you need to use those operations, try increasing the poly_modulus parameter, to fit your input.\n",
      "*BFV c2p 10000 sum time*: 30.53 ms\n",
      "**Commom 10000 sum time*: 0.65 ms\n",
      "Are Equal? True\n",
      "WARNING: The input does not fit in a single ciphertext, and some operations will be disabled.\n",
      "The following operations are disabled in this setup: matmul, matmul_plain, conv2d_im2col, replicate_first_slot.\n",
      "If you need to use those operations, try increasing the poly_modulus parameter, to fit your input.\n",
      "*BFV c2p 100000 sum time*: 185.57 ms\n",
      "**Commom 100000 sum time*: 14.92 ms\n",
      "Are Equal? True\n",
      "WARNING: The input does not fit in a single ciphertext, and some operations will be disabled.\n",
      "The following operations are disabled in this setup: matmul, matmul_plain, conv2d_im2col, replicate_first_slot.\n",
      "If you need to use those operations, try increasing the poly_modulus parameter, to fit your input.\n",
      "*BFV c2p 1000000 sum time*: 2220.92 ms\n",
      "**Commom 1000000 sum time*: 257.16 ms\n",
      "Are Equal? True\n",
      "WARNING: The input does not fit in a single ciphertext, and some operations will be disabled.\n",
      "The following operations are disabled in this setup: matmul, matmul_plain, conv2d_im2col, replicate_first_slot.\n",
      "If you need to use those operations, try increasing the poly_modulus parameter, to fit your input.\n",
      "*BFV c2p 10000000 sum time*: 18194.69 ms\n",
      "**Commom 10000000 sum time*: 1461.50 ms\n",
      "Are Equal? True\n"
     ]
    }
   ],
   "source": [
    "duration_bfv = []\n",
    "duration_comm = []\n",
    "sizes = [100, 1000, 10000, 100000, 1000000, 10000000]\n",
    "for size in sizes:\n",
    "    L = [rand.randint(0,100000) for _ in range(size)]\n",
    "    aux = [rand.randint(0,100000) for _ in range(size)]\n",
    "    t_start = time()\n",
    "    encv = ts.bfv_vector(context, L)\n",
    "    result = encv + aux\n",
    "    t_end = time()\n",
    "    duration_bfv.append((t_end - t_start) * 1000)\n",
    "    print(\"*BFV c2p {} sum time*: {:.2f} ms\".format(size, duration_bfv[-1]))\n",
    "    t_start = time()\n",
    "    S = np.array(L) + np.array(aux)\n",
    "    t_end = time()\n",
    "    duration_comm.append((t_end - t_start) * 1000)\n",
    "    print(\"**Commom {} sum time*: {:.2f} ms\".format(size, duration_comm[-1]))\n",
    "    z = result.decrypt()\n",
    "    print(\"Are Equal?\", sum(z) == sum(S))\n",
    "    "
   ]
  },
  {
   "cell_type": "code",
   "execution_count": null,
   "id": "4178be5e",
   "metadata": {},
   "outputs": [
    {
     "data": {
      "text/plain": [
       "[]"
      ]
     },
     "execution_count": 28,
     "metadata": {},
     "output_type": "execute_result"
    },
    {
     "data": {
      "image/png": "[encoded data removed]",
      "text/plain": [
       "<Figure size 640x480 with 1 Axes>"
      ]
     },
     "metadata": {},
     "output_type": "display_data"
    }
   ],
   "source": [
    "w, x = 0.4, np.arange(len(sizes))\n",
    "\n",
    "fig, ax = plt.subplots()\n",
    "ax.bar(x - w/2, duration_comm, width=w, label='Commom')\n",
    "ax.bar(x + w/2, duration_bfv, width=w, label='BFV')\n",
    "\n",
    "ax.set_xticks(x)\n",
    "ax.set_xticklabels(sizes)\n",
    "ax.set_ylabel('Tempo')\n",
    "ax.set_xlabel('Tam. Vetor')\n",
    "ax.set_title('Tempo Operação Soma')\n",
    "ax.legend()\n",
    "\n",
    "ax.plot()"
   ]
  },
  {
   "cell_type": "code",
   "execution_count": 5,
   "id": "95d7d302",
   "metadata": {},
   "outputs": [
    {
     "name": "stdout",
     "output_type": "stream",
     "text": [
      "*BFV c2p 100 mult time*: 17.86 ms\n",
      "**Commom 100 sum time*: 14.64 ms\n",
      "Are Equal? True\n",
      "*BFV c2p 1000 mult time*: 15.78 ms\n",
      "**Commom 1000 sum time*: 1.00 ms\n",
      "Are Equal? True\n",
      "WARNING: The input does not fit in a single ciphertext, and some operations will be disabled.\n",
      "The following operations are disabled in this setup: matmul, matmul_plain, conv2d_im2col, replicate_first_slot.\n",
      "If you need to use those operations, try increasing the poly_modulus parameter, to fit your input.\n",
      "*BFV c2p 10000 mult time*: 29.91 ms\n",
      "**Commom 10000 sum time*: 2.00 ms\n",
      "Are Equal? True\n",
      "WARNING: The input does not fit in a single ciphertext, and some operations will be disabled.\n",
      "The following operations are disabled in this setup: matmul, matmul_plain, conv2d_im2col, replicate_first_slot.\n",
      "If you need to use those operations, try increasing the poly_modulus parameter, to fit your input.\n",
      "*BFV c2p 100000 mult time*: 147.38 ms\n",
      "**Commom 100000 sum time*: 20.19 ms\n",
      "Are Equal? True\n",
      "WARNING: The input does not fit in a single ciphertext, and some operations will be disabled.\n",
      "The following operations are disabled in this setup: matmul, matmul_plain, conv2d_im2col, replicate_first_slot.\n",
      "If you need to use those operations, try increasing the poly_modulus parameter, to fit your input.\n",
      "*BFV c2p 1000000 mult time*: 1605.79 ms\n",
      "**Commom 1000000 sum time*: 122.38 ms\n",
      "Are Equal? True\n",
      "WARNING: The input does not fit in a single ciphertext, and some operations will be disabled.\n",
      "The following operations are disabled in this setup: matmul, matmul_plain, conv2d_im2col, replicate_first_slot.\n",
      "If you need to use those operations, try increasing the poly_modulus parameter, to fit your input.\n",
      "*BFV c2p 10000000 mult time*: 19456.73 ms\n",
      "**Commom 10000000 sum time*: 1917.45 ms\n",
      "Are Equal? True\n"
     ]
    }
   ],
   "source": [
    "duration_bfv = []\n",
    "duration_comm = []\n",
    "sizes = [100, 1000, 10000, 100000, 1000000, 10000000]\n",
    "for size in sizes:\n",
    "    \n",
    "    L = [rand.randint(0,100) for _ in range(size)]\n",
    "    aux = [rand.randint(0,100) for _ in range(size)]\n",
    "    #aux = [1 for _ in range(size)]\n",
    "    #context.generate_galois_keys()\n",
    "    #context.global_scale = 2**40\n",
    "    t_start = time()\n",
    "    #context.generate_relin_keys()\n",
    "    encv = ts.bfv_vector(context, L)\n",
    "    result = encv * aux\n",
    "    t_end = time()\n",
    "    duration_bfv.append((t_end - t_start) * 1000)\n",
    "    print(\"*BFV c2p {} mult time*: {:.2f} ms\".format(size, duration_bfv[-1]))\n",
    "    t_start = time()\n",
    "    S = np.array(L) * np.array(aux)\n",
    "    t_end = time()\n",
    "    duration_comm.append((t_end - t_start) * 1000)\n",
    "    print(\"**Commom {} sum time*: {:.2f} ms\".format(size, duration_comm[-1]))\n",
    "    z = result.decrypt()\n",
    "    print(\"Are Equal?\", sum(z) == sum(S))\n",
    "    "
   ]
  },
  {
   "cell_type": "code",
   "execution_count": 6,
   "id": "b115998c",
   "metadata": {},
   "outputs": [
    {
     "data": {
      "text/plain": [
       "[]"
      ]
     },
     "execution_count": 6,
     "metadata": {},
     "output_type": "execute_result"
    },
    {
     "data": {
      "image/png": "[encoded data removed]",
      "text/plain": [
       "<Figure size 640x480 with 1 Axes>"
      ]
     },
     "metadata": {},
     "output_type": "display_data"
    }
   ],
   "source": [
    "w, x = 0.4, np.arange(len(sizes))\n",
    "\n",
    "fig, ax = plt.subplots()\n",
    "ax.bar(x - w/2, duration_comm, width=w, label='Commom')\n",
    "ax.bar(x + w/2, duration_bfv, width=w, label='BFV')\n",
    "\n",
    "ax.set_xticks(x)\n",
    "ax.set_xticklabels(sizes)\n",
    "ax.set_ylabel('Tempo')\n",
    "ax.set_xlabel('Tam. Vetor')\n",
    "ax.set_title('Tempo Operação Produto')\n",
    "ax.legend()\n",
    "\n",
    "ax.plot()"
   ]
  },
  {
   "cell_type": "markdown",
   "id": "173a2d13",
   "metadata": {},
   "source": [
    "## Casos de teste variando o grau do polinômio"
   ]
  },
  {
   "cell_type": "code",
   "execution_count": null,
   "id": "6e80a776",
   "metadata": {},
   "outputs": [],
   "source": [
    "for s in [2048, 4096, 8192]:\n",
    "    context = ts.context(\n",
    "                ts.SCHEME_TYPE.BFV, \n",
    "                poly_modulus_degree=s,\n",
    "                plain_modulus=1032193)\n",
    "    duration_bfv = []\n",
    "    duration_comm = []\n",
    "    sizes = [100, 1000, 10000, 100000, 1000000, 10000000]\n",
    "    for size in sizes:\n",
    "        L = [rand.randint(0,100000) for _ in range(size)]\n",
    "        aux = [rand.randint(0,100000) for _ in range(size)]\n",
    "        t_start = time()\n",
    "        encv = ts.bfv_vector(context, L)\n",
    "        result = encv + aux\n",
    "        t_end = time()\n",
    "        duration_bfv.append((t_end - t_start) * 1000)\n",
    "        print(\"*BFV c2p {} sum time*: {:.2f} ms\".format(size, duration_bfv[-1]))\n",
    "        t_start = time()\n",
    "        S = np.array(L) + np.array(aux)\n",
    "        t_end = time()\n",
    "        duration_comm.append((t_end - t_start) * 1000)\n",
    "        print(\"**Commom {} sum time*: {:.2f} ms\".format(size, duration_comm[-1]))\n",
    "        z = result.decrypt()\n",
    "        print(\"Are Equal?\", sum(z) == sum(S))\n",
    "    \n",
    "    mean_soma_bfv.append(sum(duration_bfv)/float(len(duration_bfv)))\n",
    "    \n",
    "    duration_bfv = []\n",
    "    duration_comm = []\n",
    "    for size in sizes:\n",
    "        L = [rand.randint(0,100) for _ in range(size)]\n",
    "        aux = [rand.randint(0,100) for _ in range(size)]\n",
    "        t_start = time()\n",
    "        encv = ts.bfv_vector(context, L)\n",
    "        result = encv * aux\n",
    "        t_end = time()\n",
    "        duration_bfv.append((t_end - t_start) * 1000)\n",
    "        print(\"*BFV c2p {} mult time*: {:.2f} ms\".format(size, duration_bfv[-1]))\n",
    "        t_start = time()\n",
    "        S = np.array(L) * np.array(aux)\n",
    "        t_end = time()\n",
    "        duration_comm.append((t_end - t_start) * 1000)\n",
    "        print(\"**Commom {} sum time*: {:.2f} ms\".format(size, duration_comm[-1]))\n",
    "        z = result.decrypt()\n",
    "        print(\"Are Equal?\", sum(z) == sum(S))\n",
    "    mean_prod_bfv.append(sum(duration_bfv)/float(len(duration_bfv)))\n",
    "    "
   ]
  },
  {
   "cell_type": "code",
   "execution_count": null,
   "id": "a7cb9f46",
   "metadata": {},
   "outputs": [
    {
     "data": {
      "text/plain": [
       "[3084.477663040161, 2941.104809443156, 2321.3897546132407]"
      ]
     },
     "execution_count": 16,
     "metadata": {},
     "output_type": "execute_result"
    }
   ],
   "source": [
    "mean_soma_bfv"
   ]
  },
  {
   "cell_type": "code",
   "execution_count": 18,
   "id": "bfd42411",
   "metadata": {},
   "outputs": [
    {
     "data": {
      "text/plain": [
       "[3084.477663040161, 2941.104809443156, 2321.3897546132407]"
      ]
     },
     "execution_count": 18,
     "metadata": {},
     "output_type": "execute_result"
    }
   ],
   "source": [
    "mean_soma_bfv"
   ]
  },
  {
   "cell_type": "code",
   "execution_count": 19,
   "id": "5196b3ae",
   "metadata": {},
   "outputs": [
    {
     "data": {
      "text/plain": [
       "[]"
      ]
     },
     "execution_count": 19,
     "metadata": {},
     "output_type": "execute_result"
    },
    {
     "data": {
      "image/png": "[encoded data removed]",
      "text/plain": [
       "<Figure size 640x480 with 1 Axes>"
      ]
     },
     "metadata": {},
     "output_type": "display_data"
    }
   ],
   "source": [
    "w, x = 0.4, np.arange(len([2048, 4096, 8192]))\n",
    "\n",
    "fig, ax = plt.subplots()\n",
    "ax.bar(x - w/2, mean_soma_bfv, width=w, label='Soma')\n",
    "ax.bar(x + w/2, mean_prod_bfv, width=w, label='Produto')\n",
    "\n",
    "ax.set_xticks(x)\n",
    "ax.set_xticklabels([2048, 4096, 8192])\n",
    "ax.set_ylabel('Tempo')\n",
    "ax.set_xlabel('Grau do Poli.')\n",
    "ax.set_title('Tempo Operação por grau do polinômio')\n",
    "ax.legend()\n",
    "\n",
    "ax.plot()"
   ]
  },
  {
   "cell_type": "code",
   "execution_count": null,
   "id": "19c9dc3f",
   "metadata": {},
   "outputs": [],
   "source": []
  }
 ],
 "metadata": {
  "kernelspec": {
   "display_name": ".venv",
   "language": "python",
   "name": "python3"
  },
  "language_info": {
   "codemirror_mode": {
    "name": "ipython",
    "version": 3
   },
   "file_extension": ".py",
   "mimetype": "text/x-python",
   "name": "python",
   "nbconvert_exporter": "python",
   "pygments_lexer": "ipython3",
   "version": "3.12.5"
  }
 },
 "nbformat": 4,
 "nbformat_minor": 5
}
