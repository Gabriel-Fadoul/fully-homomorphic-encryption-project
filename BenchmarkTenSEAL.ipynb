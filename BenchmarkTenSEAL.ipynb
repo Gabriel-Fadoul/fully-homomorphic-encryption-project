{
 "cells": [
  {
   "cell_type": "markdown",
   "id": "35eb4f58",
   "metadata": {},
   "source": [
    "# Benchmark TenSEAL"
   ]
  },
  {
   "cell_type": "code",
   "execution_count": 9,
   "id": "7a1c9076",
   "metadata": {},
   "outputs": [],
   "source": [
    "from time import time \n",
    "import random as rand\n",
    "import numpy as np\n",
    "import pandas as pd\n",
    "import tenseal as ts\n",
    "import matplotlib.pyplot as plt\n",
    "\n",
    "rand.seed(777)\n",
    "mean_soma_bfv = []\n",
    "mean_prod_bfv = []"
   ]
  },
  {
   "cell_type": "code",
   "execution_count": 41,
   "id": "6fecb156",
   "metadata": {},
   "outputs": [],
   "source": [
    "context = ts.context(\n",
    "                ts.SCHEME_TYPE.BFV, \n",
    "                poly_modulus_degree=8192,\n",
    "                plain_modulus=1032193)"
   ]
  },
  {
   "cell_type": "code",
   "execution_count": 40,
   "id": "5abb2153",
   "metadata": {},
   "outputs": [
    {
     "ename": "ValueError",
     "evalue": "encryption parameters are not valid for batching",
     "output_type": "error",
     "traceback": [
      "\u001b[31m---------------------------------------------------------------------------\u001b[39m",
      "\u001b[31mValueError\u001b[39m                                Traceback (most recent call last)",
      "\u001b[36mCell\u001b[39m\u001b[36m \u001b[39m\u001b[32mIn[40]\u001b[39m\u001b[32m, line 8\u001b[39m\n\u001b[32m      6\u001b[39m aux = [rand.randint(\u001b[32m0\u001b[39m,\u001b[32m100000\u001b[39m) \u001b[38;5;28;01mfor\u001b[39;00m _ \u001b[38;5;129;01min\u001b[39;00m \u001b[38;5;28mrange\u001b[39m(size)]\n\u001b[32m      7\u001b[39m t_start = time()\n\u001b[32m----> \u001b[39m\u001b[32m8\u001b[39m encv = \u001b[43mts\u001b[49m\u001b[43m.\u001b[49m\u001b[43mbfv_vector\u001b[49m\u001b[43m(\u001b[49m\u001b[43mcontext\u001b[49m\u001b[43m,\u001b[49m\u001b[43m \u001b[49m\u001b[43mL\u001b[49m\u001b[43m)\u001b[49m\n\u001b[32m      9\u001b[39m result = encv + aux\n\u001b[32m     10\u001b[39m t_end = time()\n",
      "\u001b[36mFile \u001b[39m\u001b[32mc:\\Users\\Gabriel\\Desktop\\UFMG\\2025.1\\CriptografiaAplicada\\fully-homomorphic-encryption-project\\.venv\\Lib\\site-packages\\tenseal\\__init__.py:86\u001b[39m, in \u001b[36mbfv_vector\u001b[39m\u001b[34m(*args, **kwargs)\u001b[39m\n\u001b[32m     84\u001b[39m \u001b[38;5;28;01mdef\u001b[39;00m\u001b[38;5;250m \u001b[39m\u001b[34mbfv_vector\u001b[39m(*args, **kwargs) -> BFVVector:\n\u001b[32m     85\u001b[39m \u001b[38;5;250m    \u001b[39m\u001b[33;03m\"\"\"Constructor function for tenseal.BFVVector\"\"\"\u001b[39;00m\n\u001b[32m---> \u001b[39m\u001b[32m86\u001b[39m     \u001b[38;5;28;01mreturn\u001b[39;00m \u001b[43mBFVVector\u001b[49m\u001b[43m(\u001b[49m\u001b[43m*\u001b[49m\u001b[43margs\u001b[49m\u001b[43m,\u001b[49m\u001b[43m \u001b[49m\u001b[43m*\u001b[49m\u001b[43m*\u001b[49m\u001b[43mkwargs\u001b[49m\u001b[43m)\u001b[49m\n",
      "\u001b[36mFile \u001b[39m\u001b[32mc:\\Users\\Gabriel\\Desktop\\UFMG\\2025.1\\CriptografiaAplicada\\fully-homomorphic-encryption-project\\.venv\\Lib\\site-packages\\tenseal\\tensors\\bfvvector.py:36\u001b[39m, in \u001b[36mBFVVector.__init__\u001b[39m\u001b[34m(self, context, vector, data)\u001b[39m\n\u001b[32m     33\u001b[39m     \u001b[38;5;28;01mraise\u001b[39;00m \u001b[38;5;167;01mValueError\u001b[39;00m(\u001b[33m\"\u001b[39m\u001b[33mcan only encrypt a vector\u001b[39m\u001b[33m\"\u001b[39m)\n\u001b[32m     34\u001b[39m vector = vector.raw\n\u001b[32m---> \u001b[39m\u001b[32m36\u001b[39m \u001b[38;5;28mself\u001b[39m.data = \u001b[43mts\u001b[49m\u001b[43m.\u001b[49m\u001b[43m_ts_cpp\u001b[49m\u001b[43m.\u001b[49m\u001b[43mBFVVector\u001b[49m\u001b[43m(\u001b[49m\u001b[43mcontext\u001b[49m\u001b[43m.\u001b[49m\u001b[43mdata\u001b[49m\u001b[43m,\u001b[49m\u001b[43m \u001b[49m\u001b[43mvector\u001b[49m\u001b[43m)\u001b[49m\n",
      "\u001b[31mValueError\u001b[39m: encryption parameters are not valid for batching"
     ]
    }
   ],
   "source": [
    "duration_bfv = []\n",
    "duration_comm = []\n",
    "sizes = [100, 1000, 10000, 100000, 1000000, 10000000]\n",
    "for size in sizes:\n",
    "    L = [rand.randint(0,100000) for _ in range(size)]\n",
    "    aux = [rand.randint(0,100000) for _ in range(size)]\n",
    "    t_start = time()\n",
    "    encv = ts.bfv_vector(context, L)\n",
    "    result = encv + aux\n",
    "    t_end = time()\n",
    "    duration_bfv.append((t_end - t_start) * 1000)\n",
    "    print(\"*BFV c2p {} sum time*: {:.2f} ms\".format(size, duration_bfv[-1]))\n",
    "    t_start = time()\n",
    "    S = np.array(L) + np.array(aux)\n",
    "    t_end = time()\n",
    "    duration_comm.append((t_end - t_start) * 1000)\n",
    "    print(\"**Commom {} sum time*: {:.2f} ms\".format(size, duration_comm[-1]))\n",
    "    z = result.decrypt()\n",
    "    print(\"Are Equal?\", sum(z) == sum(S))\n",
    "    "
   ]
  },
  {
   "cell_type": "code",
   "execution_count": null,
   "id": "4178be5e",
   "metadata": {},
   "outputs": [
    {
     "data": {
      "text/plain": [
       "[]"
      ]
     },
     "execution_count": 28,
     "metadata": {},
     "output_type": "execute_result"
    },
    {
     "data": {
      "image/png": "[encoded data removed]",
      "text/plain": [
       "<Figure size 640x480 with 1 Axes>"
      ]
     },
     "metadata": {},
     "output_type": "display_data"
    }
   ],
   "source": [
    "w, x = 0.4, np.arange(len(sizes))\n",
    "\n",
    "fig, ax = plt.subplots()\n",
    "ax.bar(x - w/2, duration_comm, width=w, label='Commom')\n",
    "ax.bar(x + w/2, duration_bfv, width=w, label='BFV')\n",
    "\n",
    "ax.set_xticks(x)\n",
    "ax.set_xticklabels(sizes)\n",
    "ax.set_ylabel('Tempo')\n",
    "ax.set_xlabel('Tam. Vetor')\n",
    "ax.set_title('Tempo Operação Soma')\n",
    "ax.legend()\n",
    "\n",
    "ax.plot()"
   ]
  },
  {
   "cell_type": "code",
   "execution_count": 35,
   "id": "20b3ef90",
   "metadata": {},
   "outputs": [
    {
     "ename": "ZeroDivisionError",
     "evalue": "float division by zero",
     "output_type": "error",
     "traceback": [
      "\u001b[31m---------------------------------------------------------------------------\u001b[39m",
      "\u001b[31mZeroDivisionError\u001b[39m                         Traceback (most recent call last)",
      "\u001b[36mCell\u001b[39m\u001b[36m \u001b[39m\u001b[32mIn[35]\u001b[39m\u001b[32m, line 1\u001b[39m\n\u001b[32m----> \u001b[39m\u001b[32m1\u001b[39m mean_soma_bfv.append(\u001b[38;5;28;43msum\u001b[39;49m\u001b[43m(\u001b[49m\u001b[43mduration_bfv\u001b[49m\u001b[43m)\u001b[49m\u001b[43m/\u001b[49m\u001b[38;5;28;43mfloat\u001b[39;49m\u001b[43m(\u001b[49m\u001b[38;5;28;43mlen\u001b[39;49m\u001b[43m(\u001b[49m\u001b[43mduration_bfv\u001b[49m\u001b[43m)\u001b[49m\u001b[43m)\u001b[49m)\n",
      "\u001b[31mZeroDivisionError\u001b[39m: float division by zero"
     ]
    }
   ],
   "source": [
    "mean_soma_bfv.append(sum(duration_bfv)/float(len(duration_bfv)))"
   ]
  },
  {
   "cell_type": "code",
   "execution_count": null,
   "id": "95d7d302",
   "metadata": {},
   "outputs": [
    {
     "ename": "ValueError",
     "evalue": "encryption parameters are not valid for batching",
     "output_type": "error",
     "traceback": [
      "\u001b[31m---------------------------------------------------------------------------\u001b[39m",
      "\u001b[31mValueError\u001b[39m                                Traceback (most recent call last)",
      "\u001b[36mCell\u001b[39m\u001b[36m \u001b[39m\u001b[32mIn[36]\u001b[39m\u001b[32m, line 13\u001b[39m\n\u001b[32m     11\u001b[39m t_start = time()\n\u001b[32m     12\u001b[39m \u001b[38;5;66;03m#context.generate_relin_keys()\u001b[39;00m\n\u001b[32m---> \u001b[39m\u001b[32m13\u001b[39m encv = \u001b[43mts\u001b[49m\u001b[43m.\u001b[49m\u001b[43mbfv_vector\u001b[49m\u001b[43m(\u001b[49m\u001b[43mcontext\u001b[49m\u001b[43m,\u001b[49m\u001b[43m \u001b[49m\u001b[43mL\u001b[49m\u001b[43m)\u001b[49m\n\u001b[32m     14\u001b[39m result = encv * aux\n\u001b[32m     15\u001b[39m t_end = time()\n",
      "\u001b[36mFile \u001b[39m\u001b[32mc:\\Users\\Gabriel\\Desktop\\UFMG\\2025.1\\CriptografiaAplicada\\fully-homomorphic-encryption-project\\.venv\\Lib\\site-packages\\tenseal\\__init__.py:86\u001b[39m, in \u001b[36mbfv_vector\u001b[39m\u001b[34m(*args, **kwargs)\u001b[39m\n\u001b[32m     84\u001b[39m \u001b[38;5;28;01mdef\u001b[39;00m\u001b[38;5;250m \u001b[39m\u001b[34mbfv_vector\u001b[39m(*args, **kwargs) -> BFVVector:\n\u001b[32m     85\u001b[39m \u001b[38;5;250m    \u001b[39m\u001b[33;03m\"\"\"Constructor function for tenseal.BFVVector\"\"\"\u001b[39;00m\n\u001b[32m---> \u001b[39m\u001b[32m86\u001b[39m     \u001b[38;5;28;01mreturn\u001b[39;00m \u001b[43mBFVVector\u001b[49m\u001b[43m(\u001b[49m\u001b[43m*\u001b[49m\u001b[43margs\u001b[49m\u001b[43m,\u001b[49m\u001b[43m \u001b[49m\u001b[43m*\u001b[49m\u001b[43m*\u001b[49m\u001b[43mkwargs\u001b[49m\u001b[43m)\u001b[49m\n",
      "\u001b[36mFile \u001b[39m\u001b[32mc:\\Users\\Gabriel\\Desktop\\UFMG\\2025.1\\CriptografiaAplicada\\fully-homomorphic-encryption-project\\.venv\\Lib\\site-packages\\tenseal\\tensors\\bfvvector.py:36\u001b[39m, in \u001b[36mBFVVector.__init__\u001b[39m\u001b[34m(self, context, vector, data)\u001b[39m\n\u001b[32m     33\u001b[39m     \u001b[38;5;28;01mraise\u001b[39;00m \u001b[38;5;167;01mValueError\u001b[39;00m(\u001b[33m\"\u001b[39m\u001b[33mcan only encrypt a vector\u001b[39m\u001b[33m\"\u001b[39m)\n\u001b[32m     34\u001b[39m vector = vector.raw\n\u001b[32m---> \u001b[39m\u001b[32m36\u001b[39m \u001b[38;5;28mself\u001b[39m.data = \u001b[43mts\u001b[49m\u001b[43m.\u001b[49m\u001b[43m_ts_cpp\u001b[49m\u001b[43m.\u001b[49m\u001b[43mBFVVector\u001b[49m\u001b[43m(\u001b[49m\u001b[43mcontext\u001b[49m\u001b[43m.\u001b[49m\u001b[43mdata\u001b[49m\u001b[43m,\u001b[49m\u001b[43m \u001b[49m\u001b[43mvector\u001b[49m\u001b[43m)\u001b[49m\n",
      "\u001b[31mValueError\u001b[39m: encryption parameters are not valid for batching"
     ]
    }
   ],
   "source": [
    "duration_bfv = []\n",
    "duration_comm = []\n",
    "sizes = [100, 1000, 10000, 100000, 1000000, 10000000]\n",
    "for size in sizes:\n",
    "    \n",
    "    L = [rand.randint(0,100) for _ in range(size)]\n",
    "    aux = [rand.randint(0,100) for _ in range(size)]\n",
    "    #aux = [1 for _ in range(size)]\n",
    "    #context.generate_galois_keys()\n",
    "    #context.global_scale = 2**40\n",
    "    t_start = time()\n",
    "    #context.generate_relin_keys()\n",
    "    encv = ts.bfv_vector(context, L)\n",
    "    result = encv * aux\n",
    "    t_end = time()\n",
    "    duration_bfv.append((t_end - t_start) * 1000)\n",
    "    print(\"*BFV c2p {} mult time*: {:.2f} ms\".format(size, duration_bfv[-1]))\n",
    "    t_start = time()\n",
    "    S = np.array(L) * np.array(aux)\n",
    "    t_end = time()\n",
    "    duration_comm.append((t_end - t_start) * 1000)\n",
    "    print(\"**Commom {} sum time*: {:.2f} ms\".format(size, duration_comm[-1]))\n",
    "    z = result.decrypt()\n",
    "    print(\"Are Equal?\", sum(z) == sum(S))\n",
    "    "
   ]
  },
  {
   "cell_type": "code",
   "execution_count": 37,
   "id": "b115998c",
   "metadata": {},
   "outputs": [
    {
     "ename": "ValueError",
     "evalue": "shape mismatch: objects cannot be broadcast to a single shape.  Mismatch is between arg 0 with shape (6,) and arg 1 with shape (0,).",
     "output_type": "error",
     "traceback": [
      "\u001b[31m---------------------------------------------------------------------------\u001b[39m",
      "\u001b[31mValueError\u001b[39m                                Traceback (most recent call last)",
      "\u001b[36mCell\u001b[39m\u001b[36m \u001b[39m\u001b[32mIn[37]\u001b[39m\u001b[32m, line 4\u001b[39m\n\u001b[32m      1\u001b[39m w, x = \u001b[32m0.4\u001b[39m, np.arange(\u001b[38;5;28mlen\u001b[39m(sizes))\n\u001b[32m      3\u001b[39m fig, ax = plt.subplots()\n\u001b[32m----> \u001b[39m\u001b[32m4\u001b[39m \u001b[43max\u001b[49m\u001b[43m.\u001b[49m\u001b[43mbar\u001b[49m\u001b[43m(\u001b[49m\u001b[43mx\u001b[49m\u001b[43m \u001b[49m\u001b[43m-\u001b[49m\u001b[43m \u001b[49m\u001b[43mw\u001b[49m\u001b[43m/\u001b[49m\u001b[32;43m2\u001b[39;49m\u001b[43m,\u001b[49m\u001b[43m \u001b[49m\u001b[43mduration_comm\u001b[49m\u001b[43m,\u001b[49m\u001b[43m \u001b[49m\u001b[43mwidth\u001b[49m\u001b[43m=\u001b[49m\u001b[43mw\u001b[49m\u001b[43m,\u001b[49m\u001b[43m \u001b[49m\u001b[43mlabel\u001b[49m\u001b[43m=\u001b[49m\u001b[33;43m'\u001b[39;49m\u001b[33;43mCommom\u001b[39;49m\u001b[33;43m'\u001b[39;49m\u001b[43m)\u001b[49m\n\u001b[32m      5\u001b[39m ax.bar(x + w/\u001b[32m2\u001b[39m, duration_bfv, width=w, label=\u001b[33m'\u001b[39m\u001b[33mBFV\u001b[39m\u001b[33m'\u001b[39m)\n\u001b[32m      7\u001b[39m ax.set_xticks(x)\n",
      "\u001b[36mFile \u001b[39m\u001b[32mc:\\Users\\Gabriel\\Desktop\\UFMG\\2025.1\\CriptografiaAplicada\\fully-homomorphic-encryption-project\\.venv\\Lib\\site-packages\\matplotlib\\__init__.py:1521\u001b[39m, in \u001b[36m_preprocess_data.<locals>.inner\u001b[39m\u001b[34m(ax, data, *args, **kwargs)\u001b[39m\n\u001b[32m   1518\u001b[39m \u001b[38;5;129m@functools\u001b[39m.wraps(func)\n\u001b[32m   1519\u001b[39m \u001b[38;5;28;01mdef\u001b[39;00m\u001b[38;5;250m \u001b[39m\u001b[34minner\u001b[39m(ax, *args, data=\u001b[38;5;28;01mNone\u001b[39;00m, **kwargs):\n\u001b[32m   1520\u001b[39m     \u001b[38;5;28;01mif\u001b[39;00m data \u001b[38;5;129;01mis\u001b[39;00m \u001b[38;5;28;01mNone\u001b[39;00m:\n\u001b[32m-> \u001b[39m\u001b[32m1521\u001b[39m         \u001b[38;5;28;01mreturn\u001b[39;00m \u001b[43mfunc\u001b[49m\u001b[43m(\u001b[49m\n\u001b[32m   1522\u001b[39m \u001b[43m            \u001b[49m\u001b[43max\u001b[49m\u001b[43m,\u001b[49m\n\u001b[32m   1523\u001b[39m \u001b[43m            \u001b[49m\u001b[43m*\u001b[49m\u001b[38;5;28;43mmap\u001b[39;49m\u001b[43m(\u001b[49m\u001b[43mcbook\u001b[49m\u001b[43m.\u001b[49m\u001b[43msanitize_sequence\u001b[49m\u001b[43m,\u001b[49m\u001b[43m \u001b[49m\u001b[43margs\u001b[49m\u001b[43m)\u001b[49m\u001b[43m,\u001b[49m\n\u001b[32m   1524\u001b[39m \u001b[43m            \u001b[49m\u001b[43m*\u001b[49m\u001b[43m*\u001b[49m\u001b[43m{\u001b[49m\u001b[43mk\u001b[49m\u001b[43m:\u001b[49m\u001b[43m \u001b[49m\u001b[43mcbook\u001b[49m\u001b[43m.\u001b[49m\u001b[43msanitize_sequence\u001b[49m\u001b[43m(\u001b[49m\u001b[43mv\u001b[49m\u001b[43m)\u001b[49m\u001b[43m \u001b[49m\u001b[38;5;28;43;01mfor\u001b[39;49;00m\u001b[43m \u001b[49m\u001b[43mk\u001b[49m\u001b[43m,\u001b[49m\u001b[43m \u001b[49m\u001b[43mv\u001b[49m\u001b[43m \u001b[49m\u001b[38;5;129;43;01min\u001b[39;49;00m\u001b[43m \u001b[49m\u001b[43mkwargs\u001b[49m\u001b[43m.\u001b[49m\u001b[43mitems\u001b[49m\u001b[43m(\u001b[49m\u001b[43m)\u001b[49m\u001b[43m}\u001b[49m\u001b[43m)\u001b[49m\n\u001b[32m   1526\u001b[39m     bound = new_sig.bind(ax, *args, **kwargs)\n\u001b[32m   1527\u001b[39m     auto_label = (bound.arguments.get(label_namer)\n\u001b[32m   1528\u001b[39m                   \u001b[38;5;129;01mor\u001b[39;00m bound.kwargs.get(label_namer))\n",
      "\u001b[36mFile \u001b[39m\u001b[32mc:\\Users\\Gabriel\\Desktop\\UFMG\\2025.1\\CriptografiaAplicada\\fully-homomorphic-encryption-project\\.venv\\Lib\\site-packages\\matplotlib\\axes\\_axes.py:2583\u001b[39m, in \u001b[36mAxes.bar\u001b[39m\u001b[34m(self, x, height, width, bottom, align, **kwargs)\u001b[39m\n\u001b[32m   2580\u001b[39m     \u001b[38;5;28;01mif\u001b[39;00m yerr \u001b[38;5;129;01mis\u001b[39;00m \u001b[38;5;129;01mnot\u001b[39;00m \u001b[38;5;28;01mNone\u001b[39;00m:\n\u001b[32m   2581\u001b[39m         yerr = \u001b[38;5;28mself\u001b[39m._convert_dx(yerr, y0, y, \u001b[38;5;28mself\u001b[39m.convert_yunits)\n\u001b[32m-> \u001b[39m\u001b[32m2583\u001b[39m x, height, width, y, linewidth, hatch = \u001b[43mnp\u001b[49m\u001b[43m.\u001b[49m\u001b[43mbroadcast_arrays\u001b[49m\u001b[43m(\u001b[49m\n\u001b[32m   2584\u001b[39m \u001b[43m    \u001b[49m\u001b[38;5;66;43;03m# Make args iterable too.\u001b[39;49;00m\n\u001b[32m   2585\u001b[39m \u001b[43m    \u001b[49m\u001b[43mnp\u001b[49m\u001b[43m.\u001b[49m\u001b[43matleast_1d\u001b[49m\u001b[43m(\u001b[49m\u001b[43mx\u001b[49m\u001b[43m)\u001b[49m\u001b[43m,\u001b[49m\u001b[43m \u001b[49m\u001b[43mheight\u001b[49m\u001b[43m,\u001b[49m\u001b[43m \u001b[49m\u001b[43mwidth\u001b[49m\u001b[43m,\u001b[49m\u001b[43m \u001b[49m\u001b[43my\u001b[49m\u001b[43m,\u001b[49m\u001b[43m \u001b[49m\u001b[43mlinewidth\u001b[49m\u001b[43m,\u001b[49m\u001b[43m \u001b[49m\u001b[43mhatch\u001b[49m\u001b[43m)\u001b[49m\n\u001b[32m   2587\u001b[39m \u001b[38;5;66;03m# Now that units have been converted, set the tick locations.\u001b[39;00m\n\u001b[32m   2588\u001b[39m \u001b[38;5;28;01mif\u001b[39;00m orientation == \u001b[33m'\u001b[39m\u001b[33mvertical\u001b[39m\u001b[33m'\u001b[39m:\n",
      "\u001b[36mFile \u001b[39m\u001b[32mc:\\Users\\Gabriel\\Desktop\\UFMG\\2025.1\\CriptografiaAplicada\\fully-homomorphic-encryption-project\\.venv\\Lib\\site-packages\\numpy\\lib\\_stride_tricks_impl.py:544\u001b[39m, in \u001b[36mbroadcast_arrays\u001b[39m\u001b[34m(subok, *args)\u001b[39m\n\u001b[32m    537\u001b[39m \u001b[38;5;66;03m# nditer is not used here to avoid the limit of 32 arrays.\u001b[39;00m\n\u001b[32m    538\u001b[39m \u001b[38;5;66;03m# Otherwise, something like the following one-liner would suffice:\u001b[39;00m\n\u001b[32m    539\u001b[39m \u001b[38;5;66;03m# return np.nditer(args, flags=['multi_index', 'zerosize_ok'],\u001b[39;00m\n\u001b[32m    540\u001b[39m \u001b[38;5;66;03m#                  order='C').itviews\u001b[39;00m\n\u001b[32m    542\u001b[39m args = [np.array(_m, copy=\u001b[38;5;28;01mNone\u001b[39;00m, subok=subok) \u001b[38;5;28;01mfor\u001b[39;00m _m \u001b[38;5;129;01min\u001b[39;00m args]\n\u001b[32m--> \u001b[39m\u001b[32m544\u001b[39m shape = \u001b[43m_broadcast_shape\u001b[49m\u001b[43m(\u001b[49m\u001b[43m*\u001b[49m\u001b[43margs\u001b[49m\u001b[43m)\u001b[49m\n\u001b[32m    546\u001b[39m result = [array \u001b[38;5;28;01mif\u001b[39;00m array.shape == shape\n\u001b[32m    547\u001b[39m           \u001b[38;5;28;01melse\u001b[39;00m _broadcast_to(array, shape, subok=subok, readonly=\u001b[38;5;28;01mFalse\u001b[39;00m)\n\u001b[32m    548\u001b[39m                           \u001b[38;5;28;01mfor\u001b[39;00m array \u001b[38;5;129;01min\u001b[39;00m args]\n\u001b[32m    549\u001b[39m \u001b[38;5;28;01mreturn\u001b[39;00m \u001b[38;5;28mtuple\u001b[39m(result)\n",
      "\u001b[36mFile \u001b[39m\u001b[32mc:\\Users\\Gabriel\\Desktop\\UFMG\\2025.1\\CriptografiaAplicada\\fully-homomorphic-encryption-project\\.venv\\Lib\\site-packages\\numpy\\lib\\_stride_tricks_impl.py:419\u001b[39m, in \u001b[36m_broadcast_shape\u001b[39m\u001b[34m(*args)\u001b[39m\n\u001b[32m    414\u001b[39m \u001b[38;5;250m\u001b[39m\u001b[33;03m\"\"\"Returns the shape of the arrays that would result from broadcasting the\u001b[39;00m\n\u001b[32m    415\u001b[39m \u001b[33;03msupplied arrays against each other.\u001b[39;00m\n\u001b[32m    416\u001b[39m \u001b[33;03m\"\"\"\u001b[39;00m\n\u001b[32m    417\u001b[39m \u001b[38;5;66;03m# use the old-iterator because np.nditer does not handle size 0 arrays\u001b[39;00m\n\u001b[32m    418\u001b[39m \u001b[38;5;66;03m# consistently\u001b[39;00m\n\u001b[32m--> \u001b[39m\u001b[32m419\u001b[39m b = \u001b[43mnp\u001b[49m\u001b[43m.\u001b[49m\u001b[43mbroadcast\u001b[49m\u001b[43m(\u001b[49m\u001b[43m*\u001b[49m\u001b[43margs\u001b[49m\u001b[43m[\u001b[49m\u001b[43m:\u001b[49m\u001b[32;43m32\u001b[39;49m\u001b[43m]\u001b[49m\u001b[43m)\u001b[49m\n\u001b[32m    420\u001b[39m \u001b[38;5;66;03m# unfortunately, it cannot handle 32 or more arguments directly\u001b[39;00m\n\u001b[32m    421\u001b[39m \u001b[38;5;28;01mfor\u001b[39;00m pos \u001b[38;5;129;01min\u001b[39;00m \u001b[38;5;28mrange\u001b[39m(\u001b[32m32\u001b[39m, \u001b[38;5;28mlen\u001b[39m(args), \u001b[32m31\u001b[39m):\n\u001b[32m    422\u001b[39m     \u001b[38;5;66;03m# ironically, np.broadcast does not properly handle np.broadcast\u001b[39;00m\n\u001b[32m    423\u001b[39m     \u001b[38;5;66;03m# objects (it treats them as scalars)\u001b[39;00m\n\u001b[32m    424\u001b[39m     \u001b[38;5;66;03m# use broadcasting to avoid allocating the full array\u001b[39;00m\n",
      "\u001b[31mValueError\u001b[39m: shape mismatch: objects cannot be broadcast to a single shape.  Mismatch is between arg 0 with shape (6,) and arg 1 with shape (0,)."
     ]
    },
    {
     "data": {
      "image/png": "[encoded data removed]",
      "text/plain": [
       "<Figure size 640x480 with 1 Axes>"
      ]
     },
     "metadata": {},
     "output_type": "display_data"
    }
   ],
   "source": [
    "w, x = 0.4, np.arange(len(sizes))\n",
    "\n",
    "fig, ax = plt.subplots()\n",
    "ax.bar(x - w/2, duration_comm, width=w, label='Commom')\n",
    "ax.bar(x + w/2, duration_bfv, width=w, label='BFV')\n",
    "\n",
    "ax.set_xticks(x)\n",
    "ax.set_xticklabels(sizes)\n",
    "ax.set_ylabel('Tempo')\n",
    "ax.set_xlabel('Tam. Vetor')\n",
    "ax.set_title('Tempo Operação Produto')\n",
    "ax.legend()\n",
    "\n",
    "ax.plot()"
   ]
  },
  {
   "cell_type": "code",
   "execution_count": 38,
   "id": "0a982236",
   "metadata": {},
   "outputs": [
    {
     "ename": "ZeroDivisionError",
     "evalue": "float division by zero",
     "output_type": "error",
     "traceback": [
      "\u001b[31m---------------------------------------------------------------------------\u001b[39m",
      "\u001b[31mZeroDivisionError\u001b[39m                         Traceback (most recent call last)",
      "\u001b[36mCell\u001b[39m\u001b[36m \u001b[39m\u001b[32mIn[38]\u001b[39m\u001b[32m, line 1\u001b[39m\n\u001b[32m----> \u001b[39m\u001b[32m1\u001b[39m mean_prod_bfv.append(\u001b[38;5;28;43msum\u001b[39;49m\u001b[43m(\u001b[49m\u001b[43mduration_bfv\u001b[49m\u001b[43m)\u001b[49m\u001b[43m/\u001b[49m\u001b[38;5;28;43mfloat\u001b[39;49m\u001b[43m(\u001b[49m\u001b[38;5;28;43mlen\u001b[39;49m\u001b[43m(\u001b[49m\u001b[43mduration_bfv\u001b[49m\u001b[43m)\u001b[49m\u001b[43m)\u001b[49m)\n",
      "\u001b[31mZeroDivisionError\u001b[39m: float division by zero"
     ]
    }
   ],
   "source": [
    "mean_prod_bfv.append(sum(duration_bfv)/float(len(duration_bfv)))"
   ]
  },
  {
   "cell_type": "code",
   "execution_count": null,
   "id": "a7cb9f46",
   "metadata": {},
   "outputs": [
    {
     "data": {
      "text/plain": [
       "[3084.477663040161, 2941.104809443156, 2321.3897546132407]"
      ]
     },
     "execution_count": 42,
     "metadata": {},
     "output_type": "execute_result"
    }
   ],
   "source": [
    "mean_soma_bfv"
   ]
  },
  {
   "cell_type": "code",
   "execution_count": 43,
   "id": "bfd42411",
   "metadata": {},
   "outputs": [
    {
     "data": {
      "text/plain": [
       "[2230.887015660604, 2211.025834083557, 2111.0218365987143]"
      ]
     },
     "execution_count": 43,
     "metadata": {},
     "output_type": "execute_result"
    }
   ],
   "source": [
    "mean_prod_bfv"
   ]
  },
  {
   "cell_type": "code",
   "execution_count": 48,
   "id": "04dfae30",
   "metadata": {},
   "outputs": [
    {
     "data": {
      "text/plain": [
       "[<matplotlib.lines.Line2D at 0x1e38a4b0c50>]"
      ]
     },
     "execution_count": 48,
     "metadata": {},
     "output_type": "execute_result"
    },
    {
     "data": {
      "image/png": "[encoded data removed]",
      "text/plain": [
       "<Figure size 640x480 with 1 Axes>"
      ]
     },
     "metadata": {},
     "output_type": "display_data"
    }
   ],
   "source": [
    "plt.plot([2048, 4096, 8192], mean_prod_bfv)\n",
    "plt.plot([2048, 4096, 8192], mean_soma_bfv)\n",
    "\n"
   ]
  },
  {
   "cell_type": "code",
   "execution_count": null,
   "id": "d3d21ea5",
   "metadata": {},
   "outputs": [],
   "source": [
    "duration_bfv = []\n",
    "duration_comm = []\n",
    "sizes = [100]#, 1000, 10000, 100000, 1000000, 10000000]\n",
    "for size in sizes:\n",
    "    L = [rand.randint(0,100) for _ in range(size)]\n",
    "    aux = [rand.randint(0,100) for _ in range(size)]\n",
    "    encv2 = ts.bfv_vector(context, L)\n",
    "    encv1 = ts.bfv_vector(context, L)\n",
    "    result = encv1 + encv2\n",
    "    result.decrypt()\n",
    "    "
   ]
  },
  {
   "cell_type": "code",
   "execution_count": null,
   "id": "23350a9d",
   "metadata": {},
   "outputs": [
    {
     "data": {
      "text/plain": [
       "<bound method AbstractTensor.square of <tenseal.tensors.bfvvector.BFVVector object at 0x000001E3DB47F380>>"
      ]
     },
     "execution_count": 57,
     "metadata": {},
     "output_type": "execute_result"
    }
   ],
   "source": [
    "result = encv1 + encv2\n",
    "result.decrypt()\n",
    "\n",
    "result.square"
   ]
  }
 ],
 "metadata": {
  "kernelspec": {
   "display_name": ".venv",
   "language": "python",
   "name": "python3"
  },
  "language_info": {
   "codemirror_mode": {
    "name": "ipython",
    "version": 3
   },
   "file_extension": ".py",
   "mimetype": "text/x-python",
   "name": "python",
   "nbconvert_exporter": "python",
   "pygments_lexer": "ipython3",
   "version": "3.12.5"
  }
 },
 "nbformat": 4,
 "nbformat_minor": 5
}
